{
 "cells": [
  {
   "cell_type": "code",
   "execution_count": 1,
   "id": "b519b04a-cb23-47f4-bbb2-a366f7b9cf19",
   "metadata": {},
   "outputs": [],
   "source": [
    "import numpy as np\n",
    "import time\n",
    "from interface import ExoSkeletonUDPInterface\n",
    "import matplotlib.pyplot as plt\n",
    "\n",
    "import imu_core.imu_core_cpp as IMU"
   ]
  },
  {
   "cell_type": "code",
   "execution_count": null,
   "id": "acc81d9f-eab6-43b2-a9df-2d6783f4b5f8",
   "metadata": {},
   "outputs": [],
   "source": [
    "imu_base = IMU.Imu3DM_GX3_45(\"/dev/ttyACM1\", True)\n",
    "imu_base.initialize()\n",
    "\n",
    "# imu_shoulder = IMU.Imu3DM_GX3_45(\"/dev/ttyACM2\", True)\n",
    "# imu_shoulder.initialize()"
   ]
  },
  {
   "cell_type": "code",
   "execution_count": null,
   "id": "50b2e662-7ecb-42b6-908e-c44fc4571265",
   "metadata": {},
   "outputs": [],
   "source": [
    "iRb = (imu_base.get_rotation_matrix()).copy().T\n",
    "print(iRb)"
   ]
  },
  {
   "cell_type": "code",
   "execution_count": null,
   "id": "1acdef00-2e7b-43ce-8e9d-21b1771a72b6",
   "metadata": {},
   "outputs": [],
   "source": [
    "interface = ExoSkeletonUDPInterface()\n",
    "\n",
    "interface.setCommand([0.], [0.], [0.], [0.0], [0.0], [0.])\n",
    "\n",
    "while True:\n",
    "    time.sleep(0.001)\n",
    "    state = interface.getState()\n",
    "    if state is not None:\n",
    "        torque = 1.0 \n",
    "        interface.setCommand([0], [0.], [0], [0], [torque], [0.])\n",
    "    else:\n",
    "        print(\"warning - no message received\")\n"
   ]
  }
 ],
 "metadata": {
  "kernelspec": {
   "display_name": "Python 3 (ipykernel)",
   "language": "python",
   "name": "python3"
  },
  "language_info": {
   "codemirror_mode": {
    "name": "ipython",
    "version": 3
   },
   "file_extension": ".py",
   "mimetype": "text/x-python",
   "name": "python",
   "nbconvert_exporter": "python",
   "pygments_lexer": "ipython3",
   "version": "3.10.13"
  }
 },
 "nbformat": 4,
 "nbformat_minor": 5
}
