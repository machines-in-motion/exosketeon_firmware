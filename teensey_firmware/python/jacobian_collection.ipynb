{
 "cells": [
  {
   "cell_type": "code",
   "execution_count": 1,
   "metadata": {},
   "outputs": [],
   "source": [
    "import numpy as np\n",
    "from interface import ExoSkeletonUDPInterface\n",
    "import matplotlib.pyplot as plt\n",
    "from scipy.spatial.transform import Rotation\n",
    "import pickle as pkl\n",
    "\n",
    "import time\n",
    "\n",
    "import vicon_sdk_cpp\n",
    "from vicon_sdk_cpp import ViconClient, ViconFrame\n",
    "from interface import ExoSkeletonUDPInterface\n"
   ]
  },
  {
   "cell_type": "code",
   "execution_count": 2,
   "metadata": {},
   "outputs": [
    {
     "name": "stdout",
     "output_type": "stream",
     "text": [
      "Connecting to Vicon 172.24.117.119:801... \n",
      "Connected to Vicon System.\n",
      "Warning this thread is not going to be real time.\n"
     ]
    }
   ],
   "source": [
    "# Connect to the server using a ViconClient.\n",
    "client = ViconClient()\n",
    "client.initialize(\"172.24.117.119:801\")\n",
    "client.run()\n",
    "\n",
    "# Create a frame to hold the received data.\n",
    "base_frame = ViconFrame()\n",
    "shoulder_frame = ViconFrame()"
   ]
  },
  {
   "cell_type": "code",
   "execution_count": 3,
   "metadata": {},
   "outputs": [
    {
     "name": "stdout",
     "output_type": "stream",
     "text": [
      "calibration ...\n",
      "setting offset ...\n",
      "finished calibration ...\n"
     ]
    }
   ],
   "source": [
    "interface = ExoSkeletonUDPInterface()\n",
    "interface.calibrate()"
   ]
  },
  {
   "cell_type": "code",
   "execution_count": 4,
   "metadata": {},
   "outputs": [
    {
     "ename": "KeyboardInterrupt",
     "evalue": "",
     "output_type": "error",
     "traceback": [
      "\u001b[0;31m---------------------------------------------------------------------------\u001b[0m",
      "\u001b[0;31mKeyboardInterrupt\u001b[0m                         Traceback (most recent call last)",
      "Cell \u001b[0;32mIn[4], line 5\u001b[0m\n\u001b[1;32m      3\u001b[0m \u001b[38;5;28;01mwhile\u001b[39;00m \u001b[38;5;28;01mTrue\u001b[39;00m :\n\u001b[1;32m      4\u001b[0m     interface\u001b[38;5;241m.\u001b[39msetCommand([\u001b[38;5;241m0\u001b[39m], [\u001b[38;5;241m0.\u001b[39m], [\u001b[38;5;241m0\u001b[39m], [\u001b[38;5;241m0\u001b[39m], [\u001b[38;5;241m1.5\u001b[39m])\n\u001b[0;32m----> 5\u001b[0m     \u001b[43mtime\u001b[49m\u001b[38;5;241;43m.\u001b[39;49m\u001b[43msleep\u001b[49m\u001b[43m(\u001b[49m\u001b[38;5;241;43m0.01\u001b[39;49m\u001b[43m)\u001b[49m\n\u001b[1;32m      6\u001b[0m     state \u001b[38;5;241m=\u001b[39m interface\u001b[38;5;241m.\u001b[39mgetState()\n\u001b[1;32m      7\u001b[0m     client\u001b[38;5;241m.\u001b[39mget_vicon_frame(\u001b[38;5;124m\"\u001b[39m\u001b[38;5;124mEXO_BASE/EXO_BASE\u001b[39m\u001b[38;5;124m\"\u001b[39m, base_frame)\n",
      "\u001b[0;31mKeyboardInterrupt\u001b[0m: "
     ]
    }
   ],
   "source": [
    "data_fk = []\n",
    "data_angle = []\n",
    "while True :\n",
    "    interface.setCommand([0], [0.], [0], [0], [1.5])\n",
    "    time.sleep(0.01)\n",
    "    state = interface.getState()\n",
    "    client.get_vicon_frame(\"EXO_BASE/EXO_BASE\", base_frame)\n",
    "    client.get_vicon_frame(\"EXO_ARM/EXO_ARM\", shoulder_frame)\n",
    "    shoulder_r = Rotation.from_quat(shoulder_frame.se3_pose[3:]).as_matrix()\n",
    "    base_r = Rotation.from_quat(base_frame.se3_pose[3:]).as_matrix()\n",
    "    error = Rotation.from_matrix(base_r.T @ shoulder_r)\n",
    "    angle = np.linalg.norm(error.as_rotvec())\n",
    "    data_angle.append(state[\"q\"]) \n",
    "    data_fk.append(angle)"
   ]
  },
  {
   "cell_type": "code",
   "execution_count": 6,
   "metadata": {},
   "outputs": [
    {
     "name": "stdout",
     "output_type": "stream",
     "text": [
      "Using matplotlib backend: QtAgg\n"
     ]
    }
   ],
   "source": [
    "%matplotlib\n",
    "plt.plot(data_fk, label = \"firmware\")\n",
    "plt.plot(data_angle, label = \"actual\")\n",
    "plt.legend()\n",
    "plt.show()"
   ]
  },
  {
   "cell_type": "code",
   "execution_count": null,
   "metadata": {},
   "outputs": [],
   "source": []
  },
  {
   "cell_type": "code",
   "execution_count": 4,
   "metadata": {},
   "outputs": [],
   "source": [
    "data_q = []\n",
    "data_base = []\n",
    "data_shoulder = []\n",
    "T = 2000\n",
    "\n",
    "for i in range(T):\n",
    "    interface.setCommand([0], [0.], [0], [0], [1.5])\n",
    "    time.sleep(0.01)\n",
    "    client.get_vicon_frame(\"EXO_BASE/EXO_BASE\", base_frame)\n",
    "    data_base.append(base_frame.se3_pose[3:].copy())\n",
    "    client.get_vicon_frame(\"EXO_ARM/EXO_ARM\", shoulder_frame)\n",
    "    data_shoulder.append(shoulder_frame.se3_pose[3:].copy())\n",
    "    state = interface.getState()\n",
    "    data_q.append(np.squeeze(state[\"motor_q\"]))\n",
    "\n",
    "data_q = np.array(data_q)\n",
    "data_base = np.array(data_base)\n",
    "data_shoulder = np.array(data_shoulder)\n",
    "d = {\n",
    "    \"motor_angle\" : data_q,\n",
    "    \"base_orientation\" : data_base,\n",
    "    \"shoulder_orientation\" : data_shoulder,\n",
    "}\n",
    "with open(\"data/dataset3.pkl\", \"wb\") as f:\n",
    "    pkl.dump(d, f)\n"
   ]
  },
  {
   "cell_type": "code",
   "execution_count": 5,
   "metadata": {},
   "outputs": [],
   "source": [
    "angle_mat = []\n",
    "invert_sign = -1\n",
    "data_q_filter = []\n",
    "for i in range(len(data_shoulder)):\n",
    "\n",
    "    # removing data thats in the singularity\n",
    "    if data_q[i] < -1.35:\n",
    "        continue\n",
    "\n",
    "    shoulder_r = Rotation.from_quat(data_shoulder[i]).as_matrix()\n",
    "    base_r = Rotation.from_quat(data_base[i]).as_matrix()\n",
    "    error = Rotation.from_matrix(base_r.T @ shoulder_r)\n",
    "    angle = np.linalg.norm(error.as_rotvec())\n",
    "    data_q_filter.append(data_q[i])\n",
    "\n",
    "    angle_mat.append(angle)\n",
    "\n",
    "angle_mat = np.asarray(angle_mat)"
   ]
  },
  {
   "cell_type": "code",
   "execution_count": 9,
   "metadata": {},
   "outputs": [
    {
     "name": "stdout",
     "output_type": "stream",
     "text": [
      "Using matplotlib backend: QtAgg\n"
     ]
    },
    {
     "data": {
      "text/plain": [
       "<matplotlib.legend.Legend at 0x714e8eb46dd0>"
      ]
     },
     "execution_count": 9,
     "metadata": {},
     "output_type": "execute_result"
    }
   ],
   "source": [
    "%matplotlib\n",
    "start = 200\n",
    "end = 1800\n",
    "# plt.plot(data_q_filter[start:end], angle_mat[start:end])\n",
    "plt.plot(data_q_filter[start:end], label = \"motor\")\n",
    "plt.plot(angle_mat[start:end], label = \"vicon\")\n",
    "plt.legend()"
   ]
  },
  {
   "cell_type": "code",
   "execution_count": 10,
   "metadata": {},
   "outputs": [],
   "source": [
    "poly_coef = np.polyfit(np.array(data_q_filter[start:end]).squeeze(), angle_mat[start:end], 2)\n",
    "test = np.polyval(poly_coef, np.array(data_q_filter).squeeze())\n",
    "plt.plot(test[start:end], label=\"predicted\")\n",
    "plt.plot(angle_mat[start:end], label = \"actual\")\n",
    "plt.legend()\n",
    "plt.grid()"
   ]
  },
  {
   "cell_type": "code",
   "execution_count": 11,
   "metadata": {},
   "outputs": [
    {
     "data": {
      "text/plain": [
       "array([-0.16600942,  0.73458596,  1.78947858])"
      ]
     },
     "execution_count": 11,
     "metadata": {},
     "output_type": "execute_result"
    }
   ],
   "source": [
    "poly_coef"
   ]
  },
  {
   "cell_type": "code",
   "execution_count": 53,
   "metadata": {},
   "outputs": [
    {
     "name": "stdout",
     "output_type": "stream",
     "text": [
      "\u001b[0;31mSignature:\u001b[0m       \u001b[0mnp\u001b[0m\u001b[0;34m.\u001b[0m\u001b[0mpolyfit\u001b[0m\u001b[0;34m(\u001b[0m\u001b[0mx\u001b[0m\u001b[0;34m,\u001b[0m \u001b[0my\u001b[0m\u001b[0;34m,\u001b[0m \u001b[0mdeg\u001b[0m\u001b[0;34m,\u001b[0m \u001b[0mrcond\u001b[0m\u001b[0;34m=\u001b[0m\u001b[0;32mNone\u001b[0m\u001b[0;34m,\u001b[0m \u001b[0mfull\u001b[0m\u001b[0;34m=\u001b[0m\u001b[0;32mFalse\u001b[0m\u001b[0;34m,\u001b[0m \u001b[0mw\u001b[0m\u001b[0;34m=\u001b[0m\u001b[0;32mNone\u001b[0m\u001b[0;34m,\u001b[0m \u001b[0mcov\u001b[0m\u001b[0;34m=\u001b[0m\u001b[0;32mFalse\u001b[0m\u001b[0;34m)\u001b[0m\u001b[0;34m\u001b[0m\u001b[0;34m\u001b[0m\u001b[0m\n",
      "\u001b[0;31mCall signature:\u001b[0m  \u001b[0mnp\u001b[0m\u001b[0;34m.\u001b[0m\u001b[0mpolyfit\u001b[0m\u001b[0;34m(\u001b[0m\u001b[0;34m*\u001b[0m\u001b[0margs\u001b[0m\u001b[0;34m,\u001b[0m \u001b[0;34m**\u001b[0m\u001b[0mkwargs\u001b[0m\u001b[0;34m)\u001b[0m\u001b[0;34m\u001b[0m\u001b[0;34m\u001b[0m\u001b[0m\n",
      "\u001b[0;31mType:\u001b[0m            _ArrayFunctionDispatcher\n",
      "\u001b[0;31mString form:\u001b[0m     <function polyfit at 0x7a83582af130>\n",
      "\u001b[0;31mFile:\u001b[0m            ~/miniconda3/envs/exoskeleton/lib/python3.10/site-packages/numpy/lib/polynomial.py\n",
      "\u001b[0;31mDocstring:\u001b[0m      \n",
      "Least squares polynomial fit.\n",
      "\n",
      ".. note::\n",
      "   This forms part of the old polynomial API. Since version 1.4, the\n",
      "   new polynomial API defined in `numpy.polynomial` is preferred.\n",
      "   A summary of the differences can be found in the\n",
      "   :doc:`transition guide </reference/routines.polynomials>`.\n",
      "\n",
      "Fit a polynomial ``p(x) = p[0] * x**deg + ... + p[deg]`` of degree `deg`\n",
      "to points `(x, y)`. Returns a vector of coefficients `p` that minimises\n",
      "the squared error in the order `deg`, `deg-1`, ... `0`.\n",
      "\n",
      "The `Polynomial.fit <numpy.polynomial.polynomial.Polynomial.fit>` class\n",
      "method is recommended for new code as it is more stable numerically. See\n",
      "the documentation of the method for more information.\n",
      "\n",
      "Parameters\n",
      "----------\n",
      "x : array_like, shape (M,)\n",
      "    x-coordinates of the M sample points ``(x[i], y[i])``.\n",
      "y : array_like, shape (M,) or (M, K)\n",
      "    y-coordinates of the sample points. Several data sets of sample\n",
      "    points sharing the same x-coordinates can be fitted at once by\n",
      "    passing in a 2D-array that contains one dataset per column.\n",
      "deg : int\n",
      "    Degree of the fitting polynomial\n",
      "rcond : float, optional\n",
      "    Relative condition number of the fit. Singular values smaller than\n",
      "    this relative to the largest singular value will be ignored. The\n",
      "    default value is len(x)*eps, where eps is the relative precision of\n",
      "    the float type, about 2e-16 in most cases.\n",
      "full : bool, optional\n",
      "    Switch determining nature of return value. When it is False (the\n",
      "    default) just the coefficients are returned, when True diagnostic\n",
      "    information from the singular value decomposition is also returned.\n",
      "w : array_like, shape (M,), optional\n",
      "    Weights. If not None, the weight ``w[i]`` applies to the unsquared\n",
      "    residual ``y[i] - y_hat[i]`` at ``x[i]``. Ideally the weights are\n",
      "    chosen so that the errors of the products ``w[i]*y[i]`` all have the\n",
      "    same variance.  When using inverse-variance weighting, use\n",
      "    ``w[i] = 1/sigma(y[i])``.  The default value is None.\n",
      "cov : bool or str, optional\n",
      "    If given and not `False`, return not just the estimate but also its\n",
      "    covariance matrix. By default, the covariance are scaled by\n",
      "    chi2/dof, where dof = M - (deg + 1), i.e., the weights are presumed\n",
      "    to be unreliable except in a relative sense and everything is scaled\n",
      "    such that the reduced chi2 is unity. This scaling is omitted if\n",
      "    ``cov='unscaled'``, as is relevant for the case that the weights are\n",
      "    w = 1/sigma, with sigma known to be a reliable estimate of the\n",
      "    uncertainty.\n",
      "\n",
      "Returns\n",
      "-------\n",
      "p : ndarray, shape (deg + 1,) or (deg + 1, K)\n",
      "    Polynomial coefficients, highest power first.  If `y` was 2-D, the\n",
      "    coefficients for `k`-th data set are in ``p[:,k]``.\n",
      "\n",
      "residuals, rank, singular_values, rcond\n",
      "    These values are only returned if ``full == True``\n",
      "\n",
      "    - residuals -- sum of squared residuals of the least squares fit\n",
      "    - rank -- the effective rank of the scaled Vandermonde\n",
      "       coefficient matrix\n",
      "    - singular_values -- singular values of the scaled Vandermonde\n",
      "       coefficient matrix\n",
      "    - rcond -- value of `rcond`.\n",
      "\n",
      "    For more details, see `numpy.linalg.lstsq`.\n",
      "\n",
      "V : ndarray, shape (M,M) or (M,M,K)\n",
      "    Present only if ``full == False`` and ``cov == True``.  The covariance\n",
      "    matrix of the polynomial coefficient estimates.  The diagonal of\n",
      "    this matrix are the variance estimates for each coefficient.  If y\n",
      "    is a 2-D array, then the covariance matrix for the `k`-th data set\n",
      "    are in ``V[:,:,k]``\n",
      "\n",
      "\n",
      "Warns\n",
      "-----\n",
      "RankWarning\n",
      "    The rank of the coefficient matrix in the least-squares fit is\n",
      "    deficient. The warning is only raised if ``full == False``.\n",
      "\n",
      "    The warnings can be turned off by\n",
      "\n",
      "    >>> import warnings\n",
      "    >>> warnings.simplefilter('ignore', np.RankWarning)\n",
      "\n",
      "See Also\n",
      "--------\n",
      "polyval : Compute polynomial values.\n",
      "linalg.lstsq : Computes a least-squares fit.\n",
      "scipy.interpolate.UnivariateSpline : Computes spline fits.\n",
      "\n",
      "Notes\n",
      "-----\n",
      "The solution minimizes the squared error\n",
      "\n",
      ".. math::\n",
      "    E = \\sum_{j=0}^k |p(x_j) - y_j|^2\n",
      "\n",
      "in the equations::\n",
      "\n",
      "    x[0]**n * p[0] + ... + x[0] * p[n-1] + p[n] = y[0]\n",
      "    x[1]**n * p[0] + ... + x[1] * p[n-1] + p[n] = y[1]\n",
      "    ...\n",
      "    x[k]**n * p[0] + ... + x[k] * p[n-1] + p[n] = y[k]\n",
      "\n",
      "The coefficient matrix of the coefficients `p` is a Vandermonde matrix.\n",
      "\n",
      "`polyfit` issues a `RankWarning` when the least-squares fit is badly\n",
      "conditioned. This implies that the best fit is not well-defined due\n",
      "to numerical error. The results may be improved by lowering the polynomial\n",
      "degree or by replacing `x` by `x` - `x`.mean(). The `rcond` parameter\n",
      "can also be set to a value smaller than its default, but the resulting\n",
      "fit may be spurious: including contributions from the small singular\n",
      "values can add numerical noise to the result.\n",
      "\n",
      "Note that fitting polynomial coefficients is inherently badly conditioned\n",
      "when the degree of the polynomial is large or the interval of sample points\n",
      "is badly centered. The quality of the fit should always be checked in these\n",
      "cases. When polynomial fits are not satisfactory, splines may be a good\n",
      "alternative.\n",
      "\n",
      "References\n",
      "----------\n",
      ".. [1] Wikipedia, \"Curve fitting\",\n",
      "       https://en.wikipedia.org/wiki/Curve_fitting\n",
      ".. [2] Wikipedia, \"Polynomial interpolation\",\n",
      "       https://en.wikipedia.org/wiki/Polynomial_interpolation\n",
      "\n",
      "Examples\n",
      "--------\n",
      ">>> import warnings\n",
      ">>> x = np.array([0.0, 1.0, 2.0, 3.0,  4.0,  5.0])\n",
      ">>> y = np.array([0.0, 0.8, 0.9, 0.1, -0.8, -1.0])\n",
      ">>> z = np.polyfit(x, y, 3)\n",
      ">>> z\n",
      "array([ 0.08703704, -0.81349206,  1.69312169, -0.03968254]) # may vary\n",
      "\n",
      "It is convenient to use `poly1d` objects for dealing with polynomials:\n",
      "\n",
      ">>> p = np.poly1d(z)\n",
      ">>> p(0.5)\n",
      "0.6143849206349179 # may vary\n",
      ">>> p(3.5)\n",
      "-0.34732142857143039 # may vary\n",
      ">>> p(10)\n",
      "22.579365079365115 # may vary\n",
      "\n",
      "High-order polynomials may oscillate wildly:\n",
      "\n",
      ">>> with warnings.catch_warnings():\n",
      "...     warnings.simplefilter('ignore', np.RankWarning)\n",
      "...     p30 = np.poly1d(np.polyfit(x, y, 30))\n",
      "...\n",
      ">>> p30(4)\n",
      "-0.80000000000000204 # may vary\n",
      ">>> p30(5)\n",
      "-0.99999999999999445 # may vary\n",
      ">>> p30(4.5)\n",
      "-0.10547061179440398 # may vary\n",
      "\n",
      "Illustration:\n",
      "\n",
      ">>> import matplotlib.pyplot as plt\n",
      ">>> xp = np.linspace(-2, 6, 100)\n",
      ">>> _ = plt.plot(x, y, '.', xp, p(xp), '-', xp, p30(xp), '--')\n",
      ">>> plt.ylim(-2,2)\n",
      "(-2, 2)\n",
      ">>> plt.show()\n",
      "\u001b[0;31mClass docstring:\u001b[0m\n",
      "Class to wrap functions with checks for __array_function__ overrides.\n",
      "\n",
      "All arguments are required, and can only be passed by position.\n",
      "\n",
      "Parameters\n",
      "----------\n",
      "dispatcher : function or None\n",
      "    The dispatcher function that returns a single sequence-like object\n",
      "    of all arguments relevant.  It must have the same signature (except\n",
      "    the default values) as the actual implementation.\n",
      "    If ``None``, this is a ``like=`` dispatcher and the\n",
      "    ``_ArrayFunctionDispatcher`` must be called with ``like`` as the\n",
      "    first (additional and positional) argument.\n",
      "implementation : function\n",
      "    Function that implements the operation on NumPy arrays without\n",
      "    overrides.  Arguments passed calling the ``_ArrayFunctionDispatcher``\n",
      "    will be forwarded to this (and the ``dispatcher``) as if using\n",
      "    ``*args, **kwargs``.\n",
      "\n",
      "Attributes\n",
      "----------\n",
      "_implementation : function\n",
      "    The original implementation passed in."
     ]
    }
   ],
   "source": [
    "?np.polyfit"
   ]
  }
 ],
 "metadata": {
  "kernelspec": {
   "display_name": "exoskeleton",
   "language": "python",
   "name": "python3"
  },
  "language_info": {
   "codemirror_mode": {
    "name": "ipython",
    "version": 3
   },
   "file_extension": ".py",
   "mimetype": "text/x-python",
   "name": "python",
   "nbconvert_exporter": "python",
   "pygments_lexer": "ipython3",
   "version": "3.10.13"
  }
 },
 "nbformat": 4,
 "nbformat_minor": 2
}
