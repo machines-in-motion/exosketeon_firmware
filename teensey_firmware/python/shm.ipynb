{
 "cells": [
  {
   "cell_type": "code",
   "execution_count": 1,
   "metadata": {},
   "outputs": [],
   "source": [
    "import numpy as np\n",
    "import time"
   ]
  },
  {
   "cell_type": "code",
   "execution_count": 2,
   "metadata": {},
   "outputs": [],
   "source": [
    "import socket\n",
    "import struct\n",
    "import numpy as np\n",
    "import time\n",
    "import threading\n",
    "\n",
    "MOTION_CMD = 0x01\n",
    "MOTION_STATE = 0x01\n",
    "\n",
    "class ExoSkeletonUDPInterface():\n",
    "    def __init__(self, leg_ip='192.168.123.10', leg_port=5000, \n",
    "                       host_ip='192.168.123.1', host_port=5000,\n",
    "                       num_actuators=1):\n",
    "        self.num_actuators= num_actuators\n",
    "        self.num_imus = 3\n",
    "        self.leg_ip = leg_ip\n",
    "        self.leg_port = leg_port\n",
    "        self.socket=socket.socket(socket.AF_INET,socket.SOCK_DGRAM)\n",
    "        self.RX_RUNNING = True\n",
    "        self.transmit_counter = 0\n",
    "        self.socket.bind((host_ip, host_port))\n",
    "        self.rx_thread=threading.Thread(target=self.receivingThread)\n",
    "        self.rx_thread.start()\n",
    "        self.state = None\n",
    "        self.latest_state_stamp = time.time()\n",
    "        self.is_calibrated = 0\n",
    "        self.q_offsets = [0.]\n",
    "\n",
    "    def calibrate(self):\n",
    "        print(\"calibration ...\")\n",
    "\n",
    "        self.sendCommand([0.], [0.], [0.], [0.0], [0.0], [0.0])\n",
    "        time.sleep(0.01)\n",
    "        time_check = 0\n",
    "        wait_time = 1.0\n",
    "\n",
    "        while self.is_calibrated == 0:\n",
    "            time.sleep(0.001)\n",
    "            state = self.getState()\n",
    "            if state is not None:\n",
    "                data = self.getState()\n",
    "                q_motor = data['motor_q']\n",
    "                dq_motor  = data['motor_dq']\n",
    "                # reset\n",
    "                torque = 2.0\n",
    "                self.sendCommand([0], [0.], [0], [0], [torque], [0.])\n",
    "                if dq_motor < 1e-2:\n",
    "                    time_check += 0.001\n",
    "                if time_check > wait_time:\n",
    "                    self.is_calibrated = 1\n",
    "                    self.q_offsets = [q_motor,]\n",
    "                    print(\"setting offset ...\")\n",
    "            else:\n",
    "                print('No response received from the leg. Check the network.')\n",
    "\n",
    "        print(\"finished calibration ...\")\n",
    "        self.sendCommand([0], [0.], [0], [0], [0.0], self.q_offsets)\n",
    "\n",
    "\n",
    "    def setCommand(self,q_des, dq_des, kp, kd, tau_ff):\n",
    "        if self.is_calibrated:\n",
    "            self.sendCommand(q_des, dq_des, kp, kd, tau_ff, self.q_offsets)\n",
    "        else:\n",
    "            print(\"Please calibrate the robot before sending command ....\")\n",
    "            self.sendCommand([0], [0.], [0], [0], [0.], [0.])\n",
    "\n",
    "    def sendCommand(self,q_des, dq_des, kp, kd, tau_ff, q_offsets):\n",
    "        assert self.num_actuators == len(q_des) == len(dq_des) == len(kp) == len(kd) == len(tau_ff) == len(q_offsets), 'there should be one entry in all inputs per actuator'\n",
    "        msg_format=f'I{self.num_actuators*6}f'\n",
    "        stamp = time.time()\n",
    "        data = np.vstack([q_des, dq_des, kp, kd, tau_ff, q_offsets]).T.reshape(-1)\n",
    "        arguments =  [msg_format] + [MOTION_CMD] + \\\n",
    "                      data.tolist()\n",
    "        data=struct.pack(*arguments)\n",
    "        self.socket.sendto(data, (self.leg_ip, self.leg_port))\n",
    "\n",
    "    def getState(self):\n",
    "        if self.state is not None and (time.time()-self.latest_state_stamp) < 0.1:\n",
    "            return self.state\n",
    "        else:\n",
    "            return None\n",
    "        \n",
    "\n",
    "    def receivingThread(self):\n",
    "        while self.RX_RUNNING:\n",
    "            data = self.socket.recvmsg(4096)\n",
    "            print(len(data[0][1:]))\n",
    "            if data[0][0] == MOTION_STATE:\n",
    "                msg_format=f'{self.num_actuators*(4) + (4+1)*(self.num_imus)}f'\n",
    "                data = struct.unpack(msg_format, data[0][1:])\n",
    "                state = np.array(data).reshape(self.num_actuators, 4 + (4+1)*(self.num_imus))  \n",
    "                self.state={'q': state[:,0],\n",
    "                            'dq': state[:,1],\n",
    "                            'motor_q': state[:,2],\n",
    "                            'motor_dq': state[:,3],\n",
    "                            'base_ori': state[:,4:8],\n",
    "                            'shoulder_ori': state[:,8:12],\n",
    "                            'wrist_ori': state[:,12:16],\n",
    "                            'base_acc': state[:,16],\n",
    "                            'shoulder_acc': state[:,17],\n",
    "                            'wrist_acc': state[:,18],}\n",
    "                self.latest_state_stamp = time.time()\n",
    "            else:\n",
    "                print(\"invalid motion response\")\n",
    "\n",
    "    def terminate(self):\n",
    "        self.RX_RUNNING = False\n",
    "        self.socket.close()\n",
    "        self.rx_thread.join()"
   ]
  },
  {
   "cell_type": "code",
   "execution_count": 3,
   "metadata": {},
   "outputs": [
    {
     "name": "stdout",
     "output_type": "stream",
     "text": [
      "ready\n"
     ]
    }
   ],
   "source": [
    "robot = ExoSkeletonUDPInterface()\n",
    "time.sleep(0.01)\n"
   ]
  },
  {
   "cell_type": "code",
   "execution_count": 6,
   "metadata": {},
   "outputs": [
    {
     "data": {
      "text/plain": [
       "{'q': array([0.78095847]),\n",
       " 'dq': array([0.]),\n",
       " 'motor_q': array([-1.09964001]),\n",
       " 'motor_dq': array([0.]),\n",
       " 'base_ori': array([[-0.0111084 ,  0.14715576, -0.71417236,  0.6842041 ]]),\n",
       " 'shoulder_ori': array([[ 0.40594482,  0.4901123 , -0.51519775,  0.57409668]]),\n",
       " 'wrist_ori': array([[-0.18585205,  0.44543457,  0.13708496,  0.86505127]]),\n",
       " 'base_acc': array([3.]),\n",
       " 'shoulder_acc': array([0.]),\n",
       " 'wrist_acc': array([3.])}"
      ]
     },
     "execution_count": 6,
     "metadata": {},
     "output_type": "execute_result"
    }
   ],
   "source": [
    "robot.setCommand([0], [0.], [0], [0], [0.0])\n",
    "time.sleep(0.01)\n",
    "robot.getState()"
   ]
  },
  {
   "cell_type": "code",
   "execution_count": null,
   "metadata": {},
   "outputs": [],
   "source": []
  }
 ],
 "metadata": {
  "kernelspec": {
   "display_name": "Python 3",
   "language": "python",
   "name": "python3"
  },
  "language_info": {
   "codemirror_mode": {
    "name": "ipython",
    "version": 3
   },
   "file_extension": ".py",
   "mimetype": "text/x-python",
   "name": "python",
   "nbconvert_exporter": "python",
   "pygments_lexer": "ipython3",
   "version": "3.10.12"
  }
 },
 "nbformat": 4,
 "nbformat_minor": 2
}
