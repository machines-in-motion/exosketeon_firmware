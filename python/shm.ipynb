{
 "cells": [
  {
   "cell_type": "code",
   "execution_count": 1,
   "metadata": {},
   "outputs": [],
   "source": [
    "import numpy as np\n",
    "import time"
   ]
  },
  {
   "cell_type": "code",
   "execution_count": 2,
   "metadata": {},
   "outputs": [],
   "source": [
    "import socket\n",
    "import struct\n",
    "import numpy as np\n",
    "import time\n",
    "import threading\n",
    "\n",
    "MOTION_CMD = 0x01\n",
    "MOTION_STATE = 0x01\n",
    "\n",
    "class ExoSkeletonUDPInterface():\n",
    "    def __init__(self, leg_ip='192.168.123.10', leg_port=5000, \n",
    "                       host_ip='192.168.123.1', host_port=5000,\n",
    "                       num_actuators=1):\n",
    "        self.num_actuators= num_actuators\n",
    "        self.num_imus = 3\n",
    "        self.leg_ip = leg_ip\n",
    "        self.leg_port = leg_port\n",
    "        self.socket=socket.socket(socket.AF_INET,socket.SOCK_DGRAM)\n",
    "        self.RX_RUNNING = True\n",
    "        self.transmit_counter = 0\n",
    "        self.socket.bind((host_ip, host_port))\n",
    "        self.rx_thread=threading.Thread(target=self.receivingThread)\n",
    "        self.rx_thread.start()\n",
    "        self.state = None\n",
    "        self.latest_state_stamp = time.time()\n",
    "        self.is_calibrated = 1\n",
    "        self.q_offsets = [0.]\n",
    "        print(\"ready\")\n",
    "    # def calibrate(self):\n",
    "    #     print(\"calibration ...\")\n",
    "\n",
    "    #     self.sendCommand([0.], [0.], [0.], [0.0], [0.0], [0.0])\n",
    "    #     time.sleep(0.01)\n",
    "    #     time_check = 0\n",
    "    #     wait_time = 1.0\n",
    "\n",
    "    #     while self.is_calibrated == 0:\n",
    "    #         time.sleep(0.001)\n",
    "    #         state = self.getState()\n",
    "    #         if state is not None:\n",
    "    #             data = self.getState()\n",
    "    #             q_motor = data['motor_q']\n",
    "    #             dq_motor  = data['motor_dq']\n",
    "    #             # reset\n",
    "    #             torque = 2.0\n",
    "    #             self.sendCommand([0], [0.], [0], [0], [torque], [0.])\n",
    "    #             if dq_motor < 1e-2:\n",
    "    #                 time_check += 0.001\n",
    "    #             if time_check > wait_time:\n",
    "    #                 self.is_calibrated = 1\n",
    "    #                 self.q_offset = [q_motor,]\n",
    "    #                 print(\"setting offset ...\")\n",
    "    #         else:\n",
    "    #             print('No response received from the leg. Check the network.')\n",
    "\n",
    "    #     print(\"finished calibration ...\")\n",
    "    #     self.sendCommand([0], [0.], [0], [0], [0.0], self.q_offset)\n",
    "\n",
    "\n",
    "    def setCommand(self,q_des, dq_des, kp, kd, tau_ff):\n",
    "        print(\"yo\")\n",
    "        if self.is_calibrated:\n",
    "            print(\"yo\")\n",
    "            self.sendCommand(q_des, dq_des, kp, kd, tau_ff, self.q_offset)\n",
    "        else:\n",
    "            print(\"Please calibrate the robot before sending command ....\")\n",
    "            self.sendCommand([0], [0.], [0], [0], [0.], [0.])\n",
    "\n",
    "    def sendCommand(self,q_des, dq_des, kp, kd, tau_ff, q_offsets):\n",
    "        assert self.num_actuators == len(q_des) == len(dq_des) == len(kp) == len(kd) == len(tau_ff) == len(q_offsets), 'there should be one entry in all inputs per actuator'\n",
    "        msg_format=f'I{self.num_actuators*6}f'\n",
    "        stamp = time.time()\n",
    "        data = np.vstack([q_des, dq_des, kp, kd, tau_ff, q_offsets]).T.reshape(-1)\n",
    "        arguments =  [msg_format] + [MOTION_CMD] + \\\n",
    "                      data.tolist()\n",
    "        data=struct.pack(*arguments)\n",
    "        self.socket.sendto(data, (self.leg_ip, self.leg_port))\n",
    "\n",
    "    def getState(self):\n",
    "        if self.state is not None and (time.time()-self.latest_state_stamp) < 0.1:\n",
    "            return self.state\n",
    "        else:\n",
    "            return None\n",
    "        \n",
    "\n",
    "    def receivingThread(self):\n",
    "        while self.RX_RUNNING:\n",
    "            print(data)\n",
    "            data = self.socket.recvmsg(4096)\n",
    "            # breakpoint()\n",
    "            if data[0][0] == MOTION_STATE:\n",
    "                msg_format=f'{self.num_actuators*(4) + 4*(self.num_imus+1)}f'\n",
    "                data = struct.unpack(msg_format, data[0][1:])\n",
    "                print(data)\n",
    "                state = np.array(data).reshape(self.num_actuators, 4 + 4*(self.num_imus+1))  \n",
    "                self.state={'q': state[:,0],\n",
    "                            'dq': state[:,1],\n",
    "                            'motor_q': state[:,2],\n",
    "                            'motor_dq': state[:,3],\n",
    "                            'base_ori': state[:,4:8],\n",
    "                            'shoulder_ori': state[:,8:12],\n",
    "                            'wrist_ori': state[:,12:16]}\n",
    "                self.latest_state_stamp = time.time()\n",
    "            else:\n",
    "                print(\"invalid motion response\")\n",
    "\n",
    "    def terminate(self):\n",
    "        self.RX_RUNNING = False\n",
    "        self.socket.close()\n",
    "        self.rx_thread.join()"
   ]
  },
  {
   "cell_type": "code",
   "execution_count": 5,
   "metadata": {},
   "outputs": [
    {
     "ename": "OSError",
     "evalue": "[Errno 98] Address already in use",
     "output_type": "error",
     "traceback": [
      "\u001b[0;31m---------------------------------------------------------------------------\u001b[0m",
      "\u001b[0;31mOSError\u001b[0m                                   Traceback (most recent call last)",
      "Cell \u001b[0;32mIn[5], line 1\u001b[0m\n\u001b[0;32m----> 1\u001b[0m robot \u001b[38;5;241m=\u001b[39m \u001b[43mExoSkeletonUDPInterface\u001b[49m\u001b[43m(\u001b[49m\u001b[43m)\u001b[49m\n\u001b[1;32m      2\u001b[0m time\u001b[38;5;241m.\u001b[39msleep(\u001b[38;5;241m0.01\u001b[39m)\n",
      "Cell \u001b[0;32mIn[2], line 21\u001b[0m, in \u001b[0;36mExoSkeletonUDPInterface.__init__\u001b[0;34m(self, leg_ip, leg_port, host_ip, host_port, num_actuators)\u001b[0m\n\u001b[1;32m     19\u001b[0m \u001b[38;5;28mself\u001b[39m\u001b[38;5;241m.\u001b[39mRX_RUNNING \u001b[38;5;241m=\u001b[39m \u001b[38;5;28;01mTrue\u001b[39;00m\n\u001b[1;32m     20\u001b[0m \u001b[38;5;28mself\u001b[39m\u001b[38;5;241m.\u001b[39mtransmit_counter \u001b[38;5;241m=\u001b[39m \u001b[38;5;241m0\u001b[39m\n\u001b[0;32m---> 21\u001b[0m \u001b[38;5;28;43mself\u001b[39;49m\u001b[38;5;241;43m.\u001b[39;49m\u001b[43msocket\u001b[49m\u001b[38;5;241;43m.\u001b[39;49m\u001b[43mbind\u001b[49m\u001b[43m(\u001b[49m\u001b[43m(\u001b[49m\u001b[43mhost_ip\u001b[49m\u001b[43m,\u001b[49m\u001b[43m \u001b[49m\u001b[43mhost_port\u001b[49m\u001b[43m)\u001b[49m\u001b[43m)\u001b[49m\n\u001b[1;32m     22\u001b[0m \u001b[38;5;28mself\u001b[39m\u001b[38;5;241m.\u001b[39mrx_thread\u001b[38;5;241m=\u001b[39mthreading\u001b[38;5;241m.\u001b[39mThread(target\u001b[38;5;241m=\u001b[39m\u001b[38;5;28mself\u001b[39m\u001b[38;5;241m.\u001b[39mreceivingThread)\n\u001b[1;32m     23\u001b[0m \u001b[38;5;28mself\u001b[39m\u001b[38;5;241m.\u001b[39mrx_thread\u001b[38;5;241m.\u001b[39mstart()\n",
      "\u001b[0;31mOSError\u001b[0m: [Errno 98] Address already in use"
     ]
    }
   ],
   "source": [
    "robot = ExoSkeletonUDPInterface()\n",
    "time.sleep(0.01)\n"
   ]
  },
  {
   "cell_type": "code",
   "execution_count": 6,
   "metadata": {},
   "outputs": [
    {
     "name": "stdout",
     "output_type": "stream",
     "text": [
      "yo\n",
      "yo\n"
     ]
    },
    {
     "ename": "AttributeError",
     "evalue": "'ExoSkeletonUDPInterface' object has no attribute 'q_offset'",
     "output_type": "error",
     "traceback": [
      "\u001b[0;31m---------------------------------------------------------------------------\u001b[0m",
      "\u001b[0;31mAttributeError\u001b[0m                            Traceback (most recent call last)",
      "Cell \u001b[0;32mIn[6], line 1\u001b[0m\n\u001b[0;32m----> 1\u001b[0m \u001b[43mrobot\u001b[49m\u001b[38;5;241;43m.\u001b[39;49m\u001b[43msetCommand\u001b[49m\u001b[43m(\u001b[49m\u001b[43m[\u001b[49m\u001b[38;5;241;43m0\u001b[39;49m\u001b[43m]\u001b[49m\u001b[43m,\u001b[49m\u001b[43m \u001b[49m\u001b[43m[\u001b[49m\u001b[38;5;241;43m0.\u001b[39;49m\u001b[43m]\u001b[49m\u001b[43m,\u001b[49m\u001b[43m \u001b[49m\u001b[43m[\u001b[49m\u001b[38;5;241;43m0\u001b[39;49m\u001b[43m]\u001b[49m\u001b[43m,\u001b[49m\u001b[43m \u001b[49m\u001b[43m[\u001b[49m\u001b[38;5;241;43m0\u001b[39;49m\u001b[43m]\u001b[49m\u001b[43m,\u001b[49m\u001b[43m \u001b[49m\u001b[43m[\u001b[49m\u001b[38;5;241;43m0.0\u001b[39;49m\u001b[43m]\u001b[49m\u001b[43m)\u001b[49m\n\u001b[1;32m      2\u001b[0m \u001b[38;5;66;03m# time.sleep(0.001)\u001b[39;00m\n\u001b[1;32m      3\u001b[0m \u001b[38;5;66;03m# state = robot.getState()\u001b[39;00m\n\u001b[1;32m      4\u001b[0m \u001b[38;5;66;03m# state\u001b[39;00m\n",
      "Cell \u001b[0;32mIn[2], line 64\u001b[0m, in \u001b[0;36mExoSkeletonUDPInterface.setCommand\u001b[0;34m(self, q_des, dq_des, kp, kd, tau_ff)\u001b[0m\n\u001b[1;32m     62\u001b[0m \u001b[38;5;28;01mif\u001b[39;00m \u001b[38;5;28mself\u001b[39m\u001b[38;5;241m.\u001b[39mis_calibrated:\n\u001b[1;32m     63\u001b[0m     \u001b[38;5;28mprint\u001b[39m(\u001b[38;5;124m\"\u001b[39m\u001b[38;5;124myo\u001b[39m\u001b[38;5;124m\"\u001b[39m)\n\u001b[0;32m---> 64\u001b[0m     \u001b[38;5;28mself\u001b[39m\u001b[38;5;241m.\u001b[39msendCommand(q_des, dq_des, kp, kd, tau_ff, \u001b[38;5;28;43mself\u001b[39;49m\u001b[38;5;241;43m.\u001b[39;49m\u001b[43mq_offset\u001b[49m)\n\u001b[1;32m     65\u001b[0m \u001b[38;5;28;01melse\u001b[39;00m:\n\u001b[1;32m     66\u001b[0m     \u001b[38;5;28mprint\u001b[39m(\u001b[38;5;124m\"\u001b[39m\u001b[38;5;124mPlease calibrate the robot before sending command ....\u001b[39m\u001b[38;5;124m\"\u001b[39m)\n",
      "\u001b[0;31mAttributeError\u001b[0m: 'ExoSkeletonUDPInterface' object has no attribute 'q_offset'"
     ]
    }
   ],
   "source": [
    "robot.setCommand([0], [0.], [0], [0], [0.0])\n",
    "# time.sleep(0.001)\n",
    "# state = robot.getState()\n",
    "# state"
   ]
  }
 ],
 "metadata": {
  "kernelspec": {
   "display_name": "Python 3",
   "language": "python",
   "name": "python3"
  },
  "language_info": {
   "codemirror_mode": {
    "name": "ipython",
    "version": 3
   },
   "file_extension": ".py",
   "mimetype": "text/x-python",
   "name": "python",
   "nbconvert_exporter": "python",
   "pygments_lexer": "ipython3",
   "version": "3.10.12"
  }
 },
 "nbformat": 4,
 "nbformat_minor": 2
}
