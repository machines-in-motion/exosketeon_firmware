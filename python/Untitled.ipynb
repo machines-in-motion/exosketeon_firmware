{
 "cells": [
  {
   "cell_type": "code",
   "execution_count": 12,
   "id": "b519b04a-cb23-47f4-bbb2-a366f7b9cf19",
   "metadata": {},
   "outputs": [],
   "source": [
    "import numpy as np\n",
    "import time\n",
    "from interface import ExoSkeletonUDPInterface\n",
    "import matplotlib.pyplot as plt\n",
    "\n",
    "import imu_core.imu_core_cpp as IMU"
   ]
  },
  {
   "cell_type": "code",
   "execution_count": 2,
   "id": "acc81d9f-eab6-43b2-a9df-2d6783f4b5f8",
   "metadata": {},
   "outputs": [
    {
     "name": "stdout",
     "output_type": "stream",
     "text": [
      "UsbStream::read_device: Failed to read port /dev/ttyACM4. Requested 14 bytes and received 10 bytes: [ 75 65 0D 04 04 F1 03 00 E3 B6 ]\n"
     ]
    },
    {
     "data": {
      "text/plain": [
       "True"
      ]
     },
     "execution_count": 2,
     "metadata": {},
     "output_type": "execute_result"
    },
    {
     "name": "stdout",
     "output_type": "stream",
     "text": [
      "Warning this thread is not going to be real time.\n",
      "UsbStream::read_device: Failed to read port /dev/ttyACM4. Requested 72 bytes and received 14 bytes: [ 75 65 0C 08 04 F1 11 00 04 F1 11 00 FA B5 ]\n",
      "Warning this thread is not going to be real time.\n"
     ]
    }
   ],
   "source": [
    "imu_base = IMU.Imu3DM_GX3_45(\"/dev/ttyACM4\", True)\n",
    "imu_base.initialize()\n",
    "\n",
    "imu_shoulder = IMU.Imu3DM_GX3_45(\"/dev/ttyACM2\", True)\n",
    "imu_shoulder.initialize()"
   ]
  },
  {
   "cell_type": "code",
   "execution_count": 3,
   "id": "50b2e662-7ecb-42b6-908e-c44fc4571265",
   "metadata": {},
   "outputs": [
    {
     "name": "stdout",
     "output_type": "stream",
     "text": [
      "[[-0.66279519 -0.73654026 -0.13494825]\n",
      " [-0.74879891  0.65233707  0.117288  ]\n",
      " [ 0.00164442  0.17878702 -0.98388648]]\n",
      "[[ 0.95445734 -0.29819703  0.00947584]\n",
      " [-0.29535532 -0.93992102  0.17121243]\n",
      " [-0.0421485  -0.16621372 -0.9851886 ]]\n"
     ]
    }
   ],
   "source": [
    "iRb = (imu_base.get_rotation_matrix()).copy().T\n",
    "print(iRb)\n",
    "iRs = (imu_shoulder.get_rotation_matrix()).copy().T\n",
    "print(iRs)"
   ]
  },
  {
   "cell_type": "code",
   "execution_count": 4,
   "id": "1acdef00-2e7b-43ce-8e9d-21b1771a72b6",
   "metadata": {},
   "outputs": [
    {
     "ename": "KeyboardInterrupt",
     "evalue": "",
     "output_type": "error",
     "traceback": [
      "\u001b[0;31m---------------------------------------------------------------------------\u001b[0m",
      "\u001b[0;31mKeyboardInterrupt\u001b[0m                         Traceback (most recent call last)",
      "Cell \u001b[0;32mIn[4], line 13\u001b[0m\n\u001b[1;32m     10\u001b[0m interface\u001b[38;5;241m.\u001b[39msetCommand([\u001b[38;5;241m0.\u001b[39m], [\u001b[38;5;241m0.\u001b[39m], [\u001b[38;5;241m0.\u001b[39m], [\u001b[38;5;241m0.0\u001b[39m], [\u001b[38;5;241m0.0\u001b[39m], [\u001b[38;5;241m0.\u001b[39m])\n\u001b[1;32m     12\u001b[0m \u001b[38;5;28;01mwhile\u001b[39;00m \u001b[38;5;28;01mTrue\u001b[39;00m:\n\u001b[0;32m---> 13\u001b[0m     \u001b[43mtime\u001b[49m\u001b[38;5;241;43m.\u001b[39;49m\u001b[43msleep\u001b[49m\u001b[43m(\u001b[49m\u001b[38;5;241;43m0.001\u001b[39;49m\u001b[43m)\u001b[49m\n\u001b[1;32m     14\u001b[0m     state \u001b[38;5;241m=\u001b[39m interface\u001b[38;5;241m.\u001b[39mgetState()\n\u001b[1;32m     15\u001b[0m     iRb \u001b[38;5;241m=\u001b[39m (imu_base\u001b[38;5;241m.\u001b[39mget_rotation_matrix())\u001b[38;5;241m.\u001b[39mcopy()\u001b[38;5;241m.\u001b[39mT\n",
      "\u001b[0;31mKeyboardInterrupt\u001b[0m: "
     ]
    }
   ],
   "source": [
    "data_q = []\n",
    "data_Rb = []\n",
    "data_Rs = []\n",
    "data_timestamp = []\n",
    "\n",
    "counter = 0\n",
    "\n",
    "interface = ExoSkeletonUDPInterface()\n",
    "\n",
    "interface.setCommand([0.], [0.], [0.], [0.0], [0.0], [0.])\n",
    "\n",
    "while True:\n",
    "    time.sleep(0.001)\n",
    "    state = interface.getState()\n",
    "    iRb = (imu_base.get_rotation_matrix()).copy().T\n",
    "    iRs = (imu_shoulder.get_rotation_matrix()).copy().T\n",
    "    if state is not None:\n",
    "        torque = 1.5 \n",
    "        counter += 1\n",
    "        if counter > 2000:\n",
    "            data_q.append(state[\"q\"])\n",
    "            data_Rb.append(iRb)\n",
    "            data_Rs.append(iRs)\n",
    "            data_timestamp.append(time.time())\n",
    "            \n",
    "        interface.setCommand([0], [0.], [0], [0], [torque], [0.])\n",
    "    else:\n",
    "        print(\"warning - no message received\")\n"
   ]
  },
  {
   "cell_type": "code",
   "execution_count": 5,
   "id": "cffd29d3",
   "metadata": {},
   "outputs": [],
   "source": [
    "ndata_q = np.asarray(data_q)\n",
    "\n"
   ]
  },
  {
   "cell_type": "code",
   "execution_count": 13,
   "id": "f6b343d7",
   "metadata": {},
   "outputs": [],
   "source": [
    "from scipy.spatial.transform import Rotation\n",
    "from matplotlib import pyplot as plt\n"
   ]
  },
  {
   "cell_type": "code",
   "execution_count": 7,
   "id": "cc609529",
   "metadata": {},
   "outputs": [],
   "source": [
    "angle_mat = []\n",
    "for i in range(len(data_Rb)):\n",
    "    T = data_Rb[i].T @ data_Rs[i]\n",
    "    angle = Rotation.from_matrix(T).as_rotvec()\n",
    "    angle_mat.append(np.linalg.norm(angle))\n",
    "\n",
    "angle_mat = np.asarray(angle_mat)"
   ]
  },
  {
   "cell_type": "code",
   "execution_count": 8,
   "id": "fe760cd9",
   "metadata": {},
   "outputs": [
    {
     "data": {
      "text/plain": [
       "[<matplotlib.lines.Line2D at 0x7a5a412fa980>]"
      ]
     },
     "execution_count": 8,
     "metadata": {},
     "output_type": "execute_result"
    },
    {
     "data": {
      "image/png": "[encoded data removed]",
      "text/plain": [
       "<Figure size 640x480 with 1 Axes>"
      ]
     },
     "metadata": {},
     "output_type": "display_data"
    }
   ],
   "source": [
    "t_start = 0\n",
    "t_end = len(data_q)\n",
    "plt.plot(data_q[t_start:t_end], angle_mat[t_start:t_end],'.')"
   ]
  },
  {
   "cell_type": "code",
   "execution_count": 10,
   "id": "a7eb44aa",
   "metadata": {},
   "outputs": [
    {
     "name": "stdout",
     "output_type": "stream",
     "text": [
      "Using matplotlib backend: QtAgg\n"
     ]
    },
    {
     "data": {
      "text/plain": [
       "[<matplotlib.lines.Line2D at 0x7a5a4025ba30>]"
      ]
     },
     "execution_count": 10,
     "metadata": {},
     "output_type": "execute_result"
    }
   ],
   "source": [
    "%matplotlib\n",
    "plt.plot(angle_mat[t_start:t_end]/max(angle_mat[t_start:t_end]))\n",
    "plt.plot(data_q[t_start:t_end]/max(data_q))"
   ]
  },
  {
   "cell_type": "code",
   "execution_count": 1,
   "id": "20ac4d7c",
   "metadata": {},
   "outputs": [],
   "source": [
    "import pickle as pkl"
   ]
  },
  {
   "cell_type": "code",
   "execution_count": 4,
   "id": "9580e71d",
   "metadata": {},
   "outputs": [],
   "source": [
    "with open(\"data/dataset1.pkl\", \"rb\") as f:\n",
    "    data = pkl.load(f)"
   ]
  },
  {
   "cell_type": "code",
   "execution_count": 10,
   "id": "9ea17205",
   "metadata": {},
   "outputs": [],
   "source": [
    "data_q = np.array(data[\"q\"]).squeeze()\n",
    "data_q -= np.mean(data_q[0:500])\n",
    "data_shoulder = data[\"shoulder_T\"]\n",
    "data_arm = data[\"arm_T\"]"
   ]
  },
  {
   "cell_type": "code",
   "execution_count": 14,
   "id": "99a1289c",
   "metadata": {},
   "outputs": [],
   "source": [
    "angle_mat = []\n",
    "for i in range(len(data_shoulder)):\n",
    "    T = np.linalg.inv(data_shoulder[i]) @ data_arm[i]\n",
    "    T = T[0:3,0:3]\n",
    "    angle = Rotation.from_matrix(T).as_rotvec()\n",
    "    angle_mat.append(np.linalg.norm(angle))\n",
    "\n",
    "angle_mat = np.asarray(angle_mat)"
   ]
  },
  {
   "cell_type": "code",
   "execution_count": 23,
   "id": "c03bfe74",
   "metadata": {},
   "outputs": [
    {
     "data": {
      "text/plain": [
       "[<matplotlib.lines.Line2D at 0x745586d0a5f0>]"
      ]
     },
     "execution_count": 23,
     "metadata": {},
     "output_type": "execute_result"
    }
   ],
   "source": [
    "plt.plot(data_q, angle_mat)\n"
   ]
  },
  {
   "cell_type": "code",
   "execution_count": 42,
   "id": "d7bc2747",
   "metadata": {},
   "outputs": [
    {
     "name": "stderr",
     "output_type": "stream",
     "text": [
      "/tmp/ipykernel_175854/1450416813.py:1: RankWarning: Polyfit may be poorly conditioned\n",
      "  poly_coef = np.polyfit(np.array(data_q).squeeze(), angle_mat, 15)\n"
     ]
    }
   ],
   "source": [
    "poly_coef = np.polyfit(np.array(data_q).squeeze(), angle_mat, 15)\n",
    "test = np.polyval(poly_coef, np.array(data_q).squeeze())\n",
    "plt.plot(test, label=\"predicted\")\n",
    "plt.plot(angle_mat, label = \"actual\")\n",
    "plt.legend()\n",
    "plt.grid()"
   ]
  },
  {
   "cell_type": "code",
   "execution_count": 44,
   "id": "5c923ddd",
   "metadata": {},
   "outputs": [
    {
     "data": {
      "text/plain": [
       "[<matplotlib.lines.Line2D at 0x74556dd49060>]"
      ]
     },
     "execution_count": 44,
     "metadata": {},
     "output_type": "execute_result"
    }
   ],
   "source": [
    "plt.plot(data_q, test)\n",
    "plt.plot(data_q, angle_mat)"
   ]
  },
  {
   "cell_type": "code",
   "execution_count": 35,
   "id": "8312b642",
   "metadata": {},
   "outputs": [
    {
     "data": {
      "text/plain": [
       "(4,)"
      ]
     },
     "execution_count": 35,
     "metadata": {},
     "output_type": "execute_result"
    }
   ],
   "source": [
    "test.shape"
   ]
  }
 ],
 "metadata": {
  "kernelspec": {
   "display_name": "Python 3 (ipykernel)",
   "language": "python",
   "name": "python3"
  },
  "language_info": {
   "codemirror_mode": {
    "name": "ipython",
    "version": 3
   },
   "file_extension": ".py",
   "mimetype": "text/x-python",
   "name": "python",
   "nbconvert_exporter": "python",
   "pygments_lexer": "ipython3",
   "version": "3.10.13"
  }
 },
 "nbformat": 4,
 "nbformat_minor": 5
}
